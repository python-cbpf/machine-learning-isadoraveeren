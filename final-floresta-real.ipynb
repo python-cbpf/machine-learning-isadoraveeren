{
 "cells": [
  {
   "cell_type": "code",
   "execution_count": 1,
   "metadata": {},
   "outputs": [],
   "source": [
    "import gif\n",
    "from pandas import *\n",
    "import matplotlib.pyplot as plt\n",
    "import numpy as np\n",
    "import random\n",
    "from matplotlib import colors"
   ]
  },
  {
   "cell_type": "code",
   "execution_count": 2,
   "metadata": {},
   "outputs": [],
   "source": [
    "@gif.frame\n",
    "def plot(mat):\n",
    "    plt.imshow(mat,cmap=plt.cm.gray_r)\n"
   ]
  },
  {
   "cell_type": "code",
   "execution_count": 12,
   "metadata": {},
   "outputs": [],
   "source": [
    "\n",
    "\n",
    "def evolve(matrix,N,p,f): #evolves the forest matrix according to the evolution rules, and returns the updated forest\n",
    "    \n",
    "    AuxMatrix=np.zeros((N,N))\n",
    "    \n",
    "    \n",
    "    \n",
    "    nh=[-1,0,1]\n",
    "    #fire=[]\n",
    "    for i in range(1,N-1):\n",
    "        for j in range(1,N-1):\n",
    "            \n",
    "            #AuxMatrix[i][j]=matrix[i][j]\n",
    "\n",
    "            if matrix[i][j]==0:\n",
    "                regenerate=random.uniform(0, 1)\n",
    "                if regenerate<p:\n",
    "                    AuxMatrix[i][j]=2\n",
    "                #else: AuxMatrix[i][j]=0\n",
    "                \n",
    "            if matrix[i][j]==2:\n",
    "                \n",
    "                lightning=random.uniform(0,1) \n",
    "                if lightning<f:\n",
    "                    AuxMatrix[i][j]=1\n",
    "                else: AuxMatrix[i][j]=2\n",
    "                #AuxMatrix[i][j]=2\n",
    "                \n",
    "                for di in nh:\n",
    "                    for dj in nh:\n",
    "                        if matrix[i+di][j+dj]==1:\n",
    "                            AuxMatrix[i][j] = 1\n",
    "                \n",
    "                            \n",
    "            if matrix[i][j]==1:\n",
    "                AuxMatrix[i][j]=0\n",
    "                \n",
    "            \n",
    "                            \n",
    "                \n",
    "                \n",
    "                \n",
    "    \n",
    "    #plt.imshow(AuxMatrix,cmap=plt.cm.BrBG)\n",
    "    #plt.show()\n",
    "    \n",
    "    return AuxMatrix\n",
    "                        "
   ]
  },
  {
   "cell_type": "code",
   "execution_count": 22,
   "metadata": {},
   "outputs": [],
   "source": [
    "def main(N,p,f,steps):\n",
    "    frames=[]\n",
    "    \n",
    "    M=[[2 for e in range(100)] for e in range(100)]\n",
    "    \n",
    "    #for o in range(100):\n",
    "    #    for p in range(100):\n",
    "    #        prob=np.random.uniform(0,1)\n",
    "    #        if prob<0.15:\n",
    "    #            M[o][p]=0\n",
    "    \n",
    "    \n",
    "    \n",
    "    for k in range(steps):\n",
    "        \n",
    "        mm=evolve(M,N,p,f)\n",
    "        \n",
    "        figurinha=plot(mm)\n",
    "        frames.append(figurinha)\n",
    "        \n",
    "        M=mm\n",
    "    \n",
    "    gif.save(frames[-90:], \"test5.gif\", duration=100)\n"
   ]
  },
  {
   "cell_type": "code",
   "execution_count": 23,
   "metadata": {},
   "outputs": [],
   "source": [
    "main(100,0.1,0.001,150)"
   ]
  },
  {
   "cell_type": "code",
   "execution_count": null,
   "metadata": {},
   "outputs": [],
   "source": []
  },
  {
   "cell_type": "code",
   "execution_count": null,
   "metadata": {},
   "outputs": [],
   "source": []
  }
 ],
 "metadata": {
  "kernelspec": {
   "display_name": "Python 3",
   "language": "python",
   "name": "python3"
  },
  "language_info": {
   "codemirror_mode": {
    "name": "ipython",
    "version": 3
   },
   "file_extension": ".py",
   "mimetype": "text/x-python",
   "name": "python",
   "nbconvert_exporter": "python",
   "pygments_lexer": "ipython3",
   "version": "3.7.3"
  }
 },
 "nbformat": 4,
 "nbformat_minor": 2
}
